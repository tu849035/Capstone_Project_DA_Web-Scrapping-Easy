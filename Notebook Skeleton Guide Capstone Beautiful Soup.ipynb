{
 "cells": [
  {
   "cell_type": "markdown",
   "metadata": {},
   "source": [
    "# Capstone Webscrapping using BeautifulSoup\n",
    "\n",
    "This notebook contains guidances & tasks on the data processing for the application\n",
    "\n",
    "<img src=\"asset/vritual background algo.jpg\">\n",
    "\n",
    "## Requesting the Data and Creating a BeautifulSoup\n",
    "\n",
    "Let's begin with requesting the web from the site with `get` method."
   ]
  },
  {
   "cell_type": "code",
   "execution_count": 181,
   "metadata": {
    "ExecuteTime": {
     "end_time": "2020-01-13T05:12:23.275508Z",
     "start_time": "2020-01-13T05:12:20.009898Z"
    }
   },
   "outputs": [],
   "source": [
    "import requests\n",
    "\n",
    "url_get = requests.get('https://www.coingecko.com/en/coins/ethereum/historical_data/?start_date=2020-01-01&end_date=2021-06-30',\n",
    "    headers = { 'User-Agent': 'Popular browser\\'s user-agent', })"
   ]
  },
  {
   "cell_type": "markdown",
   "metadata": {},
   "source": [
    "To visualize what exactly you get from the `request.get`, we can use `.content` to see what we exactly get, in here i slice it so it won't make our screen full of the html we get from the page. You can delete the slicing if you want to see what we fully get."
   ]
  },
  {
   "cell_type": "code",
   "execution_count": 182,
   "metadata": {
    "ExecuteTime": {
     "end_time": "2020-01-13T05:12:23.290648Z",
     "start_time": "2020-01-13T05:12:23.277650Z"
    }
   },
   "outputs": [
    {
     "data": {
      "text/plain": [
       "b'!DOCTYPE html>\\n<html lang=\"en\">\\n<head>\\n<script src=\"/cdn-cgi/apps/head/gYtXOyllgyP3-Z2iKTP8rRWGBm4.js\"></script><script async defer src=\"https://www.googleoptimize.com/optimize.js?id=GTM-W3CD992\"></script>\\n<meta charset=\"utf-8\">\\n<meta http-equiv=\"X-UA-Compatible\" content=\"IE=edge\">\\n<meta name=\"viewport\" content=\"width=device-width, initial-scale=1.0\">\\n<link rel=\"shortcut icon\" href=\"/favicon.ico\">\\n<link type=\"application/opensearchdescription+xml\" rel=\"search\" href=\"/OpensearchDescription.xml\" '"
      ]
     },
     "execution_count": 182,
     "metadata": {},
     "output_type": "execute_result"
    }
   ],
   "source": [
    "url_get.content[1:500]"
   ]
  },
  {
   "cell_type": "markdown",
   "metadata": {},
   "source": [
    "As we can see we get a very unstructured and complex html, which actually contains the codes needed to show the webpages on your web browser. But we as human still confused what and where we can use that piece of code, so here where we use the beautifulsoup. Beautiful soup class will result a beautifulsoup object. Beautiful Soup transforms a complex HTML document into a complex tree of Python objects. \n",
    "\n",
    "Let's make Beautiful soup object and feel free to explore the object here."
   ]
  },
  {
   "cell_type": "code",
   "execution_count": 183,
   "metadata": {
    "ExecuteTime": {
     "end_time": "2020-01-13T05:12:23.808122Z",
     "start_time": "2020-01-13T05:12:23.292610Z"
    }
   },
   "outputs": [
    {
     "name": "stdout",
     "output_type": "stream",
     "text": [
      "<class 'bs4.BeautifulSoup'>\n"
     ]
    }
   ],
   "source": [
    "from bs4 import BeautifulSoup \n",
    "\n",
    "soup = BeautifulSoup(url_get.content,\"html.parser\")\n",
    "print(type(soup))"
   ]
  },
  {
   "cell_type": "markdown",
   "metadata": {},
   "source": [
    "## Finding the right key to scrap the data & Extracting the right information"
   ]
  },
  {
   "cell_type": "markdown",
   "metadata": {},
   "source": [
    "The information that we need are the `Date` and `Volume`, which contain in the table.\n",
    "To know which part of the code refer to that table, we can just move our cusor there, right click, and inspect element. Then we will see something like this.\n",
    "\n",
    "<img src=\"asset/image1.jpg\">\n",
    "\n",
    "From inspect element we know that we will find the line table with class `table table-striped text-sm text-lg-normal`.\n",
    "We can use the `find` method at our beautifulsoup object. So we can call our object to see what we get."
   ]
  },
  {
   "cell_type": "code",
   "execution_count": 184,
   "metadata": {
    "ExecuteTime": {
     "end_time": "2020-01-13T05:12:23.878904Z",
     "start_time": "2020-01-13T05:12:23.854974Z"
    }
   },
   "outputs": [
    {
     "name": "stdout",
     "output_type": "stream",
     "text": [
      "table class=\"table table-striped text-sm text-lg-normal\">\n",
      " <thead>\n",
      "  <tr>\n",
      "   <th class=\"text-center\">\n",
      "    Date\n",
      "   </th>\n",
      "   <th class=\"text-center\">\n",
      "    Market Cap\n",
      "   </th>\n",
      "   <th class=\"text-center\">\n",
      "    Volume\n",
      "   </th>\n",
      "   <th class=\"text-center\">\n",
      "    Open\n",
      "   </th>\n",
      "   <th class=\"text-center\">\n",
      "    Close\n",
      "   </th>\n",
      "  </tr>\n",
      " </thead>\n",
      " <tbody>\n",
      "  <tr>\n",
      "   <th class=\"font-semibold text-center\" scope=\"row\">\n",
      "    2021-06-30\n",
      "   </th>\n",
      "   <td class=\"text-center\">\n",
      "    $253,607,549,372\n",
      "   </td>\n",
      "   <td class=\"text-center\">\n",
      "    $27,149,143,847\n",
      "   </td>\n",
      "   <td class=\"text-center\">\n",
      "    $2,169.40\n",
      "   </td>\n",
      "   <td class=\"text-center\">\n",
      "    N/A\n",
      "   </td>\n",
      "  </tr>\n",
      "  <tr>\n",
      "   <th class=\"font-semibold text-center\" scope=\"row\">\n",
      "    2021-06-29\n",
      "   </th>\n",
      "   <td class=\"text-center\">\n",
      "    $243,040,539,437\n",
      "   </td>\n",
      "   <td class=\"text-center\">\n",
      "    $30,629,329,806\n",
      "   </td>\n",
      "   <td class=\"text-center\">\n",
      "    $2,087.52\n",
      "   </td>\n",
      "   <td class=\"text-center\">\n",
      "    $2,169.40\n",
      "   </td>\n",
      "  </tr>\n",
      "  <tr>\n",
      "   <th class=\"font-semibold text-cente\n"
     ]
    }
   ],
   "source": [
    "table = soup.find('table', attrs={'class': 'table table-striped text-sm text-lg-normal'})\n",
    "print(table.prettify()[1:1000])"
   ]
  },
  {
   "cell_type": "code",
   "execution_count": 185,
   "metadata": {},
   "outputs": [
    {
     "data": {
      "text/plain": [
       "'2021-05-02'"
      ]
     },
     "execution_count": 185,
     "metadata": {},
     "output_type": "execute_result"
    }
   ],
   "source": [
    "tr.find_all('th')[0].text"
   ]
  },
  {
   "cell_type": "markdown",
   "metadata": {},
   "source": [
    "Finding row length."
   ]
  },
  {
   "cell_type": "code",
   "execution_count": 186,
   "metadata": {},
   "outputs": [
    {
     "data": {
      "text/plain": [
       "60"
      ]
     },
     "execution_count": 186,
     "metadata": {},
     "output_type": "execute_result"
    }
   ],
   "source": [
    "row = table.find_all('th', attrs={'class':'font-semibold text-center'})\n",
    "row_length = len(row)\n",
    "row_length"
   ]
  },
  {
   "cell_type": "markdown",
   "metadata": {},
   "source": [
    "The looping process to scrap the information: \n",
    "\n",
    "- Establish a placeholder to receive the information that we scrap. \n",
    "- Named the placeholder `temp` and it's a list. \n",
    "- Make a loop from one until the the length of the table row, \n",
    "- We will find all cell of the column one and two which contain `Date` and `Volume`. \n",
    "- Append it to the tuple that prepared before, \n",
    "- Every one iteration we will scrap one line of the table. "
   ]
  },
  {
   "cell_type": "code",
   "execution_count": 187,
   "metadata": {},
   "outputs": [
    {
     "data": {
      "text/plain": [
       "[('2021-06-30', '$27,149,143,847'),\n",
       " ('2021-06-29', '$30,629,329,806'),\n",
       " ('2021-06-28', '$24,316,408,028'),\n",
       " ('2021-06-27', '$24,249,510,321'),\n",
       " ('2021-06-26', '$25,981,381,067'),\n",
       " ('2021-06-25', '$22,447,489,242'),\n",
       " ('2021-06-24', '$28,098,744,045'),\n",
       " ('2021-06-23', '$38,755,019,937'),\n",
       " ('2021-06-22', '$39,499,960,408'),\n",
       " ('2021-06-21', '$26,235,850,447'),\n",
       " ('2021-06-20', '$20,456,963,375'),\n",
       " ('2021-06-19', '$26,204,484,921'),\n",
       " ('2021-06-18', '$25,708,624,827'),\n",
       " ('2021-06-17', '$26,150,320,395'),\n",
       " ('2021-06-16', '$26,803,957,680'),\n",
       " ('2021-06-15', '$28,128,172,338'),\n",
       " ('2021-06-14', '$29,382,118,964'),\n",
       " ('2021-06-13', '$28,235,882,062'),\n",
       " ('2021-06-12', '$26,751,786,966'),\n",
       " ('2021-06-11', '$33,075,957,437'),\n",
       " ('2021-06-10', '$43,973,432,438'),\n",
       " ('2021-06-09', '$48,344,195,674'),\n",
       " ('2021-06-08', '$37,385,872,210'),\n",
       " ('2021-06-07', '$29,050,162,249'),\n",
       " ('2021-06-06', '$34,731,979,705'),\n",
       " ('2021-06-05', '$39,996,583,175'),\n",
       " ('2021-06-04', '$38,104,663,185'),\n",
       " ('2021-06-03', '$39,148,856,525'),\n",
       " ('2021-06-02', '$39,898,648,753'),\n",
       " ('2021-06-01', '$44,445,830,388'),\n",
       " ('2021-05-31', '$37,392,021,394'),\n",
       " ('2021-05-30', '$47,141,249,182'),\n",
       " ('2021-05-29', '$49,493,519,120'),\n",
       " ('2021-05-28', '$44,070,236,220'),\n",
       " ('2021-05-27', '$53,115,222,705'),\n",
       " ('2021-05-26', '$92,468,701,274'),\n",
       " ('2021-05-25', '$73,496,058,831'),\n",
       " ('2021-05-24', '$77,839,858,614'),\n",
       " ('2021-05-23', '$102,524,751,568'),\n",
       " ('2021-05-22', '$115,000,901,892'),\n",
       " ('2021-05-21', '$92,538,167,828'),\n",
       " ('2021-05-20', '$117,905,041,184'),\n",
       " ('2021-05-19', '$59,160,464,538'),\n",
       " ('2021-05-18', '$75,100,584,776'),\n",
       " ('2021-05-17', '$67,531,308,124'),\n",
       " ('2021-05-16', '$58,150,860,876'),\n",
       " ('2021-05-15', '$63,587,729,060'),\n",
       " ('2021-05-14', '$97,383,442,023'),\n",
       " ('2021-05-13', '$78,772,032,255'),\n",
       " ('2021-05-12', '$67,869,198,116'),\n",
       " ('2021-05-11', '$80,827,215,918'),\n",
       " ('2021-05-10', '$61,625,657,297'),\n",
       " ('2021-05-09', '$60,174,921,874'),\n",
       " ('2021-05-08', '$44,980,768,421'),\n",
       " ('2021-05-07', '$50,430,169,753'),\n",
       " ('2021-05-06', '$63,552,342,594'),\n",
       " ('2021-05-05', '$78,437,235,046'),\n",
       " ('2021-05-04', '$64,192,650,586'),\n",
       " ('2021-05-03', '$35,727,432,416'),\n",
       " ('2021-05-02', '$36,721,647,718')]"
      ]
     },
     "execution_count": 187,
     "metadata": {},
     "output_type": "execute_result"
    }
   ],
   "source": [
    "temp = []\n",
    "\n",
    "for tr in soup.find_all('tr')[1:]:\n",
    "    x = tr.find_all('th')\n",
    "    date = x[0].text\n",
    "    y = tr.find_all('td')\n",
    "    volume = y[1].text.strip()\n",
    "\n",
    "    temp.append((date,volume))\n",
    "    \n",
    "temp"
   ]
  },
  {
   "cell_type": "code",
   "execution_count": 188,
   "metadata": {},
   "outputs": [
    {
     "data": {
      "text/plain": [
       "[('2021-05-02', '$36,721,647,718'),\n",
       " ('2021-05-03', '$35,727,432,416'),\n",
       " ('2021-05-04', '$64,192,650,586'),\n",
       " ('2021-05-05', '$78,437,235,046'),\n",
       " ('2021-05-06', '$63,552,342,594'),\n",
       " ('2021-05-07', '$50,430,169,753'),\n",
       " ('2021-05-08', '$44,980,768,421'),\n",
       " ('2021-05-09', '$60,174,921,874'),\n",
       " ('2021-05-10', '$61,625,657,297'),\n",
       " ('2021-05-11', '$80,827,215,918'),\n",
       " ('2021-05-12', '$67,869,198,116'),\n",
       " ('2021-05-13', '$78,772,032,255'),\n",
       " ('2021-05-14', '$97,383,442,023'),\n",
       " ('2021-05-15', '$63,587,729,060'),\n",
       " ('2021-05-16', '$58,150,860,876'),\n",
       " ('2021-05-17', '$67,531,308,124'),\n",
       " ('2021-05-18', '$75,100,584,776'),\n",
       " ('2021-05-19', '$59,160,464,538'),\n",
       " ('2021-05-20', '$117,905,041,184'),\n",
       " ('2021-05-21', '$92,538,167,828'),\n",
       " ('2021-05-22', '$115,000,901,892'),\n",
       " ('2021-05-23', '$102,524,751,568'),\n",
       " ('2021-05-24', '$77,839,858,614'),\n",
       " ('2021-05-25', '$73,496,058,831'),\n",
       " ('2021-05-26', '$92,468,701,274'),\n",
       " ('2021-05-27', '$53,115,222,705'),\n",
       " ('2021-05-28', '$44,070,236,220'),\n",
       " ('2021-05-29', '$49,493,519,120'),\n",
       " ('2021-05-30', '$47,141,249,182'),\n",
       " ('2021-05-31', '$37,392,021,394'),\n",
       " ('2021-06-01', '$44,445,830,388'),\n",
       " ('2021-06-02', '$39,898,648,753'),\n",
       " ('2021-06-03', '$39,148,856,525'),\n",
       " ('2021-06-04', '$38,104,663,185'),\n",
       " ('2021-06-05', '$39,996,583,175'),\n",
       " ('2021-06-06', '$34,731,979,705'),\n",
       " ('2021-06-07', '$29,050,162,249'),\n",
       " ('2021-06-08', '$37,385,872,210'),\n",
       " ('2021-06-09', '$48,344,195,674'),\n",
       " ('2021-06-10', '$43,973,432,438'),\n",
       " ('2021-06-11', '$33,075,957,437'),\n",
       " ('2021-06-12', '$26,751,786,966'),\n",
       " ('2021-06-13', '$28,235,882,062'),\n",
       " ('2021-06-14', '$29,382,118,964'),\n",
       " ('2021-06-15', '$28,128,172,338'),\n",
       " ('2021-06-16', '$26,803,957,680'),\n",
       " ('2021-06-17', '$26,150,320,395'),\n",
       " ('2021-06-18', '$25,708,624,827'),\n",
       " ('2021-06-19', '$26,204,484,921'),\n",
       " ('2021-06-20', '$20,456,963,375'),\n",
       " ('2021-06-21', '$26,235,850,447'),\n",
       " ('2021-06-22', '$39,499,960,408'),\n",
       " ('2021-06-23', '$38,755,019,937'),\n",
       " ('2021-06-24', '$28,098,744,045'),\n",
       " ('2021-06-25', '$22,447,489,242'),\n",
       " ('2021-06-26', '$25,981,381,067'),\n",
       " ('2021-06-27', '$24,249,510,321'),\n",
       " ('2021-06-28', '$24,316,408,028'),\n",
       " ('2021-06-29', '$30,629,329,806'),\n",
       " ('2021-06-30', '$27,149,143,847')]"
      ]
     },
     "execution_count": 188,
     "metadata": {},
     "output_type": "execute_result"
    }
   ],
   "source": [
    "temp = temp[::-1]\n",
    "temp"
   ]
  },
  {
   "cell_type": "markdown",
   "metadata": {},
   "source": [
    "## Creating data frame & Data wrangling"
   ]
  },
  {
   "cell_type": "markdown",
   "metadata": {},
   "source": [
    "Put the array into dataframe"
   ]
  },
  {
   "cell_type": "code",
   "execution_count": 198,
   "metadata": {
    "ExecuteTime": {
     "end_time": "2020-01-13T05:12:41.517372Z",
     "start_time": "2020-01-13T05:12:29.130015Z"
    }
   },
   "outputs": [
    {
     "data": {
      "text/html": [
       "<div>\n",
       "<style scoped>\n",
       "    .dataframe tbody tr th:only-of-type {\n",
       "        vertical-align: middle;\n",
       "    }\n",
       "\n",
       "    .dataframe tbody tr th {\n",
       "        vertical-align: top;\n",
       "    }\n",
       "\n",
       "    .dataframe thead th {\n",
       "        text-align: right;\n",
       "    }\n",
       "</style>\n",
       "<table border=\"1\" class=\"dataframe\">\n",
       "  <thead>\n",
       "    <tr style=\"text-align: right;\">\n",
       "      <th></th>\n",
       "      <th>date</th>\n",
       "      <th>volume</th>\n",
       "    </tr>\n",
       "  </thead>\n",
       "  <tbody>\n",
       "    <tr>\n",
       "      <th>0</th>\n",
       "      <td>2021-05-02</td>\n",
       "      <td>$36,721,647,718</td>\n",
       "    </tr>\n",
       "    <tr>\n",
       "      <th>1</th>\n",
       "      <td>2021-05-03</td>\n",
       "      <td>$35,727,432,416</td>\n",
       "    </tr>\n",
       "    <tr>\n",
       "      <th>2</th>\n",
       "      <td>2021-05-04</td>\n",
       "      <td>$64,192,650,586</td>\n",
       "    </tr>\n",
       "    <tr>\n",
       "      <th>3</th>\n",
       "      <td>2021-05-05</td>\n",
       "      <td>$78,437,235,046</td>\n",
       "    </tr>\n",
       "    <tr>\n",
       "      <th>4</th>\n",
       "      <td>2021-05-06</td>\n",
       "      <td>$63,552,342,594</td>\n",
       "    </tr>\n",
       "  </tbody>\n",
       "</table>\n",
       "</div>"
      ],
      "text/plain": [
       "         date           volume\n",
       "0  2021-05-02  $36,721,647,718\n",
       "1  2021-05-03  $35,727,432,416\n",
       "2  2021-05-04  $64,192,650,586\n",
       "3  2021-05-05  $78,437,235,046\n",
       "4  2021-05-06  $63,552,342,594"
      ]
     },
     "execution_count": 198,
     "metadata": {},
     "output_type": "execute_result"
    }
   ],
   "source": [
    "import pandas as pd\n",
    "\n",
    "df = pd.DataFrame(temp, columns = ('date','volume'))\n",
    "df.head()"
   ]
  },
  {
   "cell_type": "markdown",
   "metadata": {},
   "source": [
    "check the dataframe data types to see if the data is useable"
   ]
  },
  {
   "cell_type": "code",
   "execution_count": 199,
   "metadata": {
    "ExecuteTime": {
     "end_time": "2020-01-13T05:12:59.165559Z",
     "start_time": "2020-01-13T05:12:58.910012Z"
    },
    "scrolled": true
   },
   "outputs": [
    {
     "data": {
      "text/plain": [
       "date      object\n",
       "volume    object\n",
       "dtype: object"
      ]
     },
     "execution_count": 199,
     "metadata": {},
     "output_type": "execute_result"
    }
   ],
   "source": [
    "df.dtypes"
   ]
  },
  {
   "cell_type": "markdown",
   "metadata": {},
   "source": [
    "Change the `Date` to `datetime` datatype and `Volume` to `Float` data type."
   ]
  },
  {
   "cell_type": "code",
   "execution_count": 200,
   "metadata": {},
   "outputs": [
    {
     "name": "stderr",
     "output_type": "stream",
     "text": [
      "C:\\Users\\User\\AppData\\Local\\Temp\\ipykernel_7928\\2006813622.py:2: FutureWarning: The default value of regex will change from True to False in a future version. In addition, single character regular expressions will *not* be treated as literal strings when regex=True.\n",
      "  df['volume'] = df['volume'].str.replace('$', '')\n"
     ]
    }
   ],
   "source": [
    "df['date'] = df['date'].astype('datetime64')\n",
    "df['volume'] = df['volume'].str.replace('$', '')\n",
    "df['volume'] = df['volume'].str.replace(',', '')\n",
    "df['volume'] = df['volume'].astype('int64')"
   ]
  },
  {
   "cell_type": "code",
   "execution_count": 201,
   "metadata": {
    "scrolled": true
   },
   "outputs": [
    {
     "data": {
      "text/plain": [
       "date      datetime64[ns]\n",
       "volume             int64\n",
       "dtype: object"
      ]
     },
     "execution_count": 201,
     "metadata": {},
     "output_type": "execute_result"
    }
   ],
   "source": [
    "df.dtypes"
   ]
  },
  {
   "cell_type": "markdown",
   "metadata": {},
   "source": [
    "To make our plot behave like we want, we need to set our index of our dataframe to our time coloumn. We can use `set_index()` "
   ]
  },
  {
   "cell_type": "code",
   "execution_count": 202,
   "metadata": {
    "scrolled": true
   },
   "outputs": [],
   "source": [
    "df = df.set_index('date')"
   ]
  },
  {
   "cell_type": "markdown",
   "metadata": {},
   "source": [
    "And done, We can do our simple visualisation."
   ]
  },
  {
   "cell_type": "code",
   "execution_count": 203,
   "metadata": {},
   "outputs": [
    {
     "data": {
      "text/plain": [
       "<AxesSubplot:xlabel='date'>"
      ]
     },
     "execution_count": 203,
     "metadata": {},
     "output_type": "execute_result"
    },
    {
     "data": {
      "image/png": "[encoded data removed]",
      "text/plain": [
       "<Figure size 432x288 with 1 Axes>"
      ]
     },
     "metadata": {
      "needs_background": "light"
     },
     "output_type": "display_data"
    }
   ],
   "source": [
    "df.plot()"
   ]
  },
  {
   "cell_type": "markdown",
   "metadata": {},
   "source": [
    "### Implementing your webscrapping to the flask dashboard\n",
    "\n",
    "- Copy paste all of your web scrapping process to the desired position on the `app.py`\n",
    "- Changing the title of the dasboard at `index.html`"
   ]
  },
  {
   "cell_type": "markdown",
   "metadata": {},
   "source": [
    "## Finishing This Notebook with Your Analysis and Conclusion\n",
    "\n",
    "First you can do start with making the data visualisation. "
   ]
  },
  {
   "cell_type": "code",
   "execution_count": 209,
   "metadata": {
    "ExecuteTime": {
     "end_time": "2020-01-13T05:20:56.208237Z",
     "start_time": "2020-01-13T05:20:56.076043Z"
    },
    "scrolled": true
   },
   "outputs": [
    {
     "data": {
      "text/plain": [
       "<AxesSubplot:xlabel='date'>"
      ]
     },
     "execution_count": 209,
     "metadata": {},
     "output_type": "execute_result"
    },
    {
     "data": {
      "image/png": "[encoded data removed]",
      "text/plain": [
       "<Figure size 432x288 with 1 Axes>"
      ]
     },
     "metadata": {
      "needs_background": "light"
     },
     "output_type": "display_data"
    }
   ],
   "source": [
    "df.plot(kind='bar')"
   ]
  },
  {
   "cell_type": "markdown",
   "metadata": {},
   "source": [
    "Volume penjualan Etherium pada periode 1 Januari 2020 s.d. 30 Juni 2021 mengalami penurunan terus walaupun sempat mengalami peningkatan yg signifikan pada pertengahan awal periode."
   ]
  },
  {
   "cell_type": "markdown",
   "metadata": {},
   "source": [
    "\n",
    "(Put your analysis and conclusion here.)"
   ]
  },
  {
   "cell_type": "markdown",
   "metadata": {},
   "source": [
    "### Extra Challange\n",
    "\n",
    "This will be not included to the scoring. \n",
    "\n",
    "- You can create additional analysis from the data.\n",
    "- Implement it to the dashboard with at `app.py` and `index.html`."
   ]
  }
 ],
 "metadata": {
  "kernelspec": {
   "display_name": "capstone_project_da",
   "language": "python",
   "name": "capstone_project_da"
  },
  "language_info": {
   "codemirror_mode": {
    "name": "ipython",
    "version": 3
   },
   "file_extension": ".py",
   "mimetype": "text/x-python",
   "name": "python",
   "nbconvert_exporter": "python",
   "pygments_lexer": "ipython3",
   "version": "3.8.13"
  }
 },
 "nbformat": 4,
 "nbformat_minor": 2
}
